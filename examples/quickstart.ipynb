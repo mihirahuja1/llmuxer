{
  "cells": [
    {
      "cell_type": "markdown",
      "metadata": {
        "colab_type": "text",
        "id": "view-in-github"
      },
      "source": [
        "<a href=\"https://colab.research.google.com/github/mihirahuja1/llmuxer/blob/main/examples/quickstart.ipynb\" target=\"_parent\"><img src=\"https://colab.research.google.com/assets/colab-badge.svg\" alt=\"Open In Colab\"/></a>"
      ]
    },
    {
      "cell_type": "markdown",
      "metadata": {
        "id": "title"
      },
      "source": [
        "# LLMuxer Quickstart\n",
        "\n",
        "Find the cheapest LLM that meets your quality requirements for classification tasks.\n",
        "\n",
        "**This notebook demonstrates:**\n",
        "- Installing LLMuxer\n",
        "- Setting up OpenRouter API key\n",
        "- Running cost optimization on a simple sentiment classification task\n",
        "- Understanding the results"
      ]
    },
    {
      "cell_type": "markdown",
      "metadata": {
        "id": "install"
      },
      "source": [
        "## 1. Installation"
      ]
    },
    {
      "cell_type": "code",
      "execution_count": null,
      "metadata": {
        "id": "install_cell"
      },
      "outputs": [],
      "source": [
        "# Install LLMuxer\n",
        "!pip install llmuxer"
      ]
    },
    {
      "cell_type": "markdown",
      "metadata": {
        "id": "setup"
      },
      "source": [
        "## 2. Setup API Key\n",
        "\n",
        "Get your OpenRouter API key from: https://openrouter.ai/keys"
      ]
    },
    {
      "cell_type": "code",
      "execution_count": null,
      "metadata": {
        "id": "setup_cell"
      },
      "outputs": [],
      "source": [
        "import os\n",
        "from getpass import getpass\n",
        "\n",
        "# Set your OpenRouter API key\n",
        "api_key = getpass(\"Enter your OpenRouter API key: \")\n",
        "os.environ['OPENROUTER_API_KEY'] = api_key\n",
        "\n",
        "print(\"✅ API key configured!\")"
      ]
    },
    {
      "cell_type": "markdown",
      "metadata": {
        "id": "example"
      },
      "source": [
        "## 3. Simple Sentiment Classification Example\n",
        "\n",
        "Let's find the cheapest model that can classify sentiment with 90% accuracy."
      ]
    },
    {
      "cell_type": "code",
      "execution_count": null,
      "metadata": {
        "id": "example_cell"
      },
      "outputs": [],
      "source": [
        "import llmuxer\n",
        "\n",
        "# Define our test examples\n",
        "examples = [\n",
        "    {\"input\": \"This product is amazing! I love it.\", \"label\": \"positive\"},\n",
        "    {\"input\": \"Terrible service, very disappointed.\", \"label\": \"negative\"},\n",
        "    {\"input\": \"It's okay, nothing special.\", \"label\": \"neutral\"},\n",
        "    {\"input\": \"Outstanding quality and fast delivery!\", \"label\": \"positive\"},\n",
        "    {\"input\": \"Worst purchase ever, total waste of money.\", \"label\": \"negative\"},\n",
        "    {\"input\": \"Average product, meets expectations.\", \"label\": \"neutral\"},\n",
        "    {\"input\": \"Fantastic! Exceeded all my expectations.\", \"label\": \"positive\"},\n",
        "    {\"input\": \"Poor quality, broke after one day.\", \"label\": \"negative\"},\n",
        "    {\"input\": \"It works fine, no complaints.\", \"label\": \"neutral\"},\n",
        "    {\"input\": \"Incredible value for money!\", \"label\": \"positive\"}\n",
        "]\n",
        "\n",
        "print(f\"📊 Testing with {len(examples)} sentiment examples\")\n",
        "print(\"🎯 Goal: Find cheapest model with 90% accuracy\")"
      ]
    },
    {
      "cell_type": "code",
      "execution_count": null,
      "metadata": {
        "id": "optimize_cell"
      },
      "outputs": [],
      "source": [
        "# Run the optimization\n",
        "result = llmuxer.optimize_cost(\n",
        "    baseline=\"gpt-4\",                    # Compare against GPT-4\n",
        "    prompt=\"Classify the sentiment of this text as positive, negative, or neutral.\",\n",
        "    examples=examples,                   # Our test data\n",
        "    task=\"classification\",               # Classification task\n",
        "    options=[\"positive\", \"negative\", \"neutral\"],  # Valid classes\n",
        "    min_accuracy=0.9                     # Require 90% accuracy\n",
        ")\n",
        "\n",
        "print(\"\\n🎉 Optimization complete!\")"
      ]
    },
    {
      "cell_type": "markdown",
      "metadata": {
        "id": "results"
      },
      "source": [
        "## 4. Understanding the Results"
      ]
    },
    {
      "cell_type": "code",
      "execution_count": null,
      "metadata": {
        "id": "results_cell"
      },
      "outputs": [],
      "source": [
        "# Display the results\n",
        "if \"error\" in result:\n",
        "    print(f\"❌ Error: {result['error']}\")\n",
        "    print(\"💡 Try lowering min_accuracy or using a different baseline\")\n",
        "else:\n",
        "    print(\"📋 OPTIMIZATION RESULTS\")\n",
        "    print(\"=\" * 50)\n",
        "    print(f\"🥇 Best Model: {result['model']}\")\n",
        "    print(f\"🎯 Accuracy: {result['accuracy']:.1%}\")\n",
        "    print(f\"💰 Cost per Million Tokens: ${result['cost_per_million']:.2f}\")\n",
        "    \n",
        "    if 'cost_savings' in result and result['cost_savings']:\n",
        "        print(f\"💸 Cost Savings: {result['cost_savings']:.1%}\")\n",
        "    \n",
        "    print(f\"⏱️  Processing Time: {result.get('time', 0):.1f} seconds\")\n",
        "    \n",
        "    print(\"\\n💡 What this means:\")\n",
        "    print(f\"   • Switch from your baseline to {result['model']}\")\n",
        "    print(f\"   • Maintain {result['accuracy']:.1%} accuracy on your task\")\n",
        "    if 'cost_savings' in result and result['cost_savings']:\n",
        "        print(f\"   • Save {result['cost_savings']:.1%} on LLM costs\")\n",
        "    print(f\"   • Pay ${result['cost_per_million']:.2f} per million tokens\")"
      ]
    },
    {
      "cell_type": "markdown",
      "metadata": {
        "id": "next_steps"
      },
      "source": [
        "## 5. Next Steps\n",
        "\n",
        "🚀 **Try with your own data:**\n",
        "- Replace `examples` with your classification dataset\n",
        "- Adjust `prompt` to describe your specific task\n",
        "- Adjust `options` to match your classes\n",
        "- Experiment with different `min_accuracy` thresholds\n",
        "- Use `sample_size=0.1` to test on 10% of data first\n",
        "\n",
        "📚 **Learn More:**\n",
        "- [GitHub Repository](https://github.com/mihirahuja1/llmuxer)\n",
        "- [Full Documentation](https://github.com/mihirahuja1/llmuxer#readme)\n",
        "- [Benchmark Results](https://github.com/mihirahuja1/llmuxer/blob/main/docs/benchmarks.md)\n",
        "\n",
        "🎯 **Current Limitations:**\n",
        "- Only classification tasks supported (extraction, generation coming in v0.2)\n",
        "- Sequential model testing (parallel coming in v0.2)\n",
        "- OpenRouter API required for model access"
      ]
    },
    {
      "cell_type": "markdown",
      "metadata": {
        "id": "bonus"
      },
      "source": [
        "## 6. Bonus: Job Classification Example\n",
        "\n",
        "Test with a different domain - job classification:"
      ]
    },
    {
      "cell_type": "code",
      "execution_count": null,
      "metadata": {
        "id": "bonus_cell"
      },
      "outputs": [],
      "source": [
        "# Job classification examples\n",
        "job_examples = [\n",
        "    {\"input\": \"Software Engineer position at Google working on ML infrastructure\", \"label\": \"engineering\"},\n",
        "    {\"input\": \"Marketing Manager role focused on digital campaigns\", \"label\": \"marketing\"},\n",
        "    {\"input\": \"Senior Data Scientist analyzing customer behavior\", \"label\": \"engineering\"},\n",
        "    {\"input\": \"Registered Nurse position in ICU with 3+ years experience\", \"label\": \"healthcare\"},\n",
        "    {\"input\": \"Elementary School Teacher for 3rd grade students\", \"label\": \"education\"},\n",
        "    {\"input\": \"Financial Analyst role in investment banking\", \"label\": \"finance\"},\n",
        "    {\"input\": \"UX Designer creating user interfaces for mobile apps\", \"label\": \"design\"},\n",
        "    {\"input\": \"Sales Representative for B2B software solutions\", \"label\": \"sales\"},\n",
        "    {\"input\": \"Project Manager overseeing software development\", \"label\": \"management\"},\n",
        "    {\"input\": \"Content Writer creating technical documentation\", \"label\": \"writing\"}\n",
        "]\n",
        "\n",
        "print(f\"📊 Running job classification with {len(job_examples)} examples...\")\n",
        "print(\"⏱️  This may take 1-2 minutes\")\n",
        "\n",
        "# Run with job dataset\n",
        "job_result = llmuxer.optimize_cost(\n",
        "    baseline=\"gpt-4\",\n",
        "    prompt=\"Classify this job description into one of these categories: engineering, marketing, healthcare, education, finance, design, sales, management, writing.\",\n",
        "    examples=job_examples,\n",
        "    task=\"classification\",\n",
        "    options=[\"engineering\", \"marketing\", \"healthcare\", \"education\", \"finance\", \"design\", \"sales\", \"management\", \"writing\"],\n",
        "    min_accuracy=0.8  # Slightly lower threshold for more complex task\n",
        ")\n",
        "\n",
        "print(\"\\n🎉 Job classification optimization complete!\")\n",
        "print(f\"🥇 Best Model: {job_result.get('model', 'N/A')}\")\n",
        "print(f\"🎯 Accuracy: {job_result.get('accuracy', 0):.1%}\")\n",
        "if 'cost_savings' in job_result:\n",
        "    print(f\"💸 Cost Savings: {job_result['cost_savings']:.1%}\")"
      ]
    }
  ],
  "metadata": {
    "colab": {
      "provenance": [],
      "include_colab_link": true
    },
    "kernelspec": {
      "display_name": "Python 3",
      "name": "python3"
    },
    "language_info": {
      "name": "python"
    }
  },
  "nbformat": 4,
  "nbformat_minor": 0
}